{
 "cells": [
  {
   "cell_type": "code",
   "execution_count": 1,
   "metadata": {
    "collapsed": false
   },
   "outputs": [
    {
     "name": "stderr",
     "output_type": "stream",
     "text": [
      ":0: FutureWarning: IPython widgets are experimental and may change in the future.\n"
     ]
    }
   ],
   "source": [
    "from IPython.html import widgets\n",
    "from IPython.display import display\n",
    "from jinja2 import Template"
   ]
  },
  {
   "cell_type": "code",
   "execution_count": 12,
   "metadata": {
    "collapsed": true
   },
   "outputs": [],
   "source": [
    "import pandas as pd\n",
    "from datetime import datetime"
   ]
  },
  {
   "cell_type": "code",
   "execution_count": 39,
   "metadata": {
    "collapsed": true
   },
   "outputs": [],
   "source": [
    "\n",
    "df = pd.DataFrame(\n",
    "[['1234', '12', datetime(2003, 8, 4, 12, 30, 45), 'Lorem ipsum dolor sit amet, consectetur adipiscing elit, sed do eiusmod tempor keyword1 incididunt ', 'tutor','None'],\n",
    " ['1234', 'sys', datetime(2003, 8, 4, 12, 32, 45), 'Lesson event', 'system', 'None'],\n",
    " ['1234', '12', datetime(2003, 8, 4, 12, 33, 45), 'ut labore et dolore magna aliqua. Ut enim ad minim veniam, quis nostrud exercitation keyword1 keyword3 ullamco laboris nisi ut aliquip ex ea commodo consequat.', 'student', 'None'],\n",
    " ['5678', '56', datetime(2003, 8, 4, 12, 36, 45), 'other other ut labore et dolore magna aliqua. Ut enim ad minim veniam, quis keyword2 keyword3 nostrud exercitation ullamco laboris nisi ut aliquip ex ea commodo consequat.', 'student', 'None'],\n",
    " ['5678', '78', datetime(2003, 8, 4, 12, 39, 45), 'other ut labore et dolore magna aliqua. Ut enim ad minim veniam, quis nostrud exercitation ullamco laboris nisi ut aliquip ex ea commodo consequat.', 'tutor', 'None']\n",
    "])\n",
    "df.columns = ['conversation', 'person', 'time', 'body','origin','tag']"
   ]
  },
  {
   "cell_type": "code",
   "execution_count": 40,
   "metadata": {
    "collapsed": false
   },
   "outputs": [
    {
     "data": {
      "text/html": [
       "<div>\n",
       "<table border=\"1\" class=\"dataframe\">\n",
       "  <thead>\n",
       "    <tr style=\"text-align: right;\">\n",
       "      <th></th>\n",
       "      <th>conversation</th>\n",
       "      <th>person</th>\n",
       "      <th>time</th>\n",
       "      <th>body</th>\n",
       "      <th>origin</th>\n",
       "      <th>tag</th>\n",
       "    </tr>\n",
       "  </thead>\n",
       "  <tbody>\n",
       "    <tr>\n",
       "      <th>0</th>\n",
       "      <td>1234</td>\n",
       "      <td>12</td>\n",
       "      <td>2003-08-04 12:30:45</td>\n",
       "      <td>Lorem ipsum dolor sit amet, consectetur adipis...</td>\n",
       "      <td>tutor</td>\n",
       "      <td>None</td>\n",
       "    </tr>\n",
       "    <tr>\n",
       "      <th>1</th>\n",
       "      <td>1234</td>\n",
       "      <td>sys</td>\n",
       "      <td>2003-08-04 12:32:45</td>\n",
       "      <td>Lesson event</td>\n",
       "      <td>system</td>\n",
       "      <td>None</td>\n",
       "    </tr>\n",
       "    <tr>\n",
       "      <th>2</th>\n",
       "      <td>1234</td>\n",
       "      <td>12</td>\n",
       "      <td>2003-08-04 12:33:45</td>\n",
       "      <td>ut labore et dolore magna aliqua. Ut enim ad m...</td>\n",
       "      <td>student</td>\n",
       "      <td>None</td>\n",
       "    </tr>\n",
       "    <tr>\n",
       "      <th>3</th>\n",
       "      <td>5678</td>\n",
       "      <td>56</td>\n",
       "      <td>2003-08-04 12:36:45</td>\n",
       "      <td>other other ut labore et dolore magna aliqua. ...</td>\n",
       "      <td>student</td>\n",
       "      <td>None</td>\n",
       "    </tr>\n",
       "    <tr>\n",
       "      <th>4</th>\n",
       "      <td>5678</td>\n",
       "      <td>78</td>\n",
       "      <td>2003-08-04 12:39:45</td>\n",
       "      <td>other ut labore et dolore magna aliqua. Ut eni...</td>\n",
       "      <td>tutor</td>\n",
       "      <td>None</td>\n",
       "    </tr>\n",
       "  </tbody>\n",
       "</table>\n",
       "</div>"
      ],
      "text/plain": [
       "  conversation person                time  \\\n",
       "0         1234     12 2003-08-04 12:30:45   \n",
       "1         1234    sys 2003-08-04 12:32:45   \n",
       "2         1234     12 2003-08-04 12:33:45   \n",
       "3         5678     56 2003-08-04 12:36:45   \n",
       "4         5678     78 2003-08-04 12:39:45   \n",
       "\n",
       "                                                body   origin   tag  \n",
       "0  Lorem ipsum dolor sit amet, consectetur adipis...    tutor  None  \n",
       "1                                       Lesson event   system  None  \n",
       "2  ut labore et dolore magna aliqua. Ut enim ad m...  student  None  \n",
       "3  other other ut labore et dolore magna aliqua. ...  student  None  \n",
       "4  other ut labore et dolore magna aliqua. Ut eni...    tutor  None  "
      ]
     },
     "execution_count": 40,
     "metadata": {},
     "output_type": "execute_result"
    }
   ],
   "source": [
    "df"
   ]
  },
  {
   "cell_type": "code",
   "execution_count": 60,
   "metadata": {
    "collapsed": false
   },
   "outputs": [],
   "source": [
    "class DataFrameTagger(object):\n",
    "    def __init__(self, df):\n",
    "        self._df = df\n",
    "        self._initialize_tag_column()\n",
    "        self.wid = {}\n",
    "        self.display = {}\n",
    "    \n",
    "    def _initialize_tag_column(self):\n",
    "        if 'tag' not in self._df.columns:\n",
    "            self._df['tag'] = 'None'\n",
    "    \n",
    "    def set_group_column(self, group_column):\n",
    "        self.group_column = group_column\n",
    "    \n",
    "    def filter_chats(self, term='', column=None):\n",
    "        self._term = term\n",
    "        if term == '' or not columns:\n",
    "            self.groups = self._df[self.group_column].unique().tolist()\n",
    "        \n",
    "        else:\n",
    "            self._filtered_df = self._df[self.df[column].str.contains(term)]\n",
    "            self.groups = self._filtered_df[self.group_column].unique().tolist()\n",
    "\n",
    "    def create_template(self, html):\n",
    "        self.html = Template(html)\n",
    "        \n",
    "    def display_group(self, page, user):\n",
    "        def on_submit(tag):\n",
    "            self._df.set_value(tag.row_dict['id'],'tag',tag.value)\n",
    "        \n",
    "        try:\n",
    "            self.wid[user].close()\n",
    "        except:\n",
    "            pass\n",
    "        group = df[df[self.group_column]==page]\n",
    "        wids = []\n",
    "        for row in group.iterrows():\n",
    "            tag = widgets.Text()\n",
    "            tag.row_dict = row[1].to_dict()\n",
    "            tag.value = tag.row_dict['tag']\n",
    "            tag.row_dict['id'] = row[0]\n",
    "            tag.html = widgets.HTML(self.html.render(**tag.row_dict))\n",
    "            tag.html.width = 400\n",
    "            tag.on_submit(lambda x: on_submit(x))\n",
    "            row_box = widgets.HBox([tag.html,tag])\n",
    "            wids.append(row_box)\n",
    "        self.wid[user] = widgets.Box(wids)\n",
    "        display(self.wid[user])\n",
    "    \n",
    "    def browse(self, user='ben'):\n",
    "        dropdown = widgets.Dropdown()\n",
    "        dropdown.options = self.groups\n",
    "        self.display[user] = widgets.interactive(self.display_group, user=user, page=dropdown )\n",
    "        display(self.display[user])\n",
    "        self.display[user].children[1].close()\n",
    "        \n",
    "    def to_dataframe(self):\n",
    "        return self._df\n",
    "\n",
    "            "
   ]
  },
  {
   "cell_type": "code",
   "execution_count": 61,
   "metadata": {
    "collapsed": false
   },
   "outputs": [],
   "source": [
    "dft = DataFrameTagger(df)"
   ]
  },
  {
   "cell_type": "code",
   "execution_count": 62,
   "metadata": {
    "collapsed": false
   },
   "outputs": [],
   "source": [
    "dft.set_group_column('conversation')\n",
    "dft.filter_chats()"
   ]
  },
  {
   "cell_type": "code",
   "execution_count": 63,
   "metadata": {
    "collapsed": false
   },
   "outputs": [],
   "source": [
    "html_template = \"\"\"\n",
    "<span>{{time}}</span>\n",
    "<span {% if origin == \"student\" %} style=\"color:blue\" {% endif %}\n",
    "    {% if origin == \"tutor\" %} style=\"color:orange\" {% endif %}>\n",
    "    {{' '+origin + ' ' + person}} \n",
    "</span>\n",
    "<p>{{body}}</p>\n",
    "<br>\n",
    "\"\"\"\n",
    "dft.create_template(html_template)"
   ]
  },
  {
   "cell_type": "code",
   "execution_count": 64,
   "metadata": {
    "collapsed": false
   },
   "outputs": [],
   "source": [
    "dft.browse()"
   ]
  },
  {
   "cell_type": "code",
   "execution_count": 11,
   "metadata": {
    "collapsed": false
   },
   "outputs": [
    {
     "data": {
      "text/html": [
       "<div>\n",
       "<table border=\"1\" class=\"dataframe\">\n",
       "  <thead>\n",
       "    <tr style=\"text-align: right;\">\n",
       "      <th></th>\n",
       "      <th>conversation</th>\n",
       "      <th>body</th>\n",
       "      <th>origin</th>\n",
       "      <th>tag</th>\n",
       "    </tr>\n",
       "  </thead>\n",
       "  <tbody>\n",
       "    <tr>\n",
       "      <th>0</th>\n",
       "      <td>1234</td>\n",
       "      <td>Lorem ipsum dolor sit amet, consectetur adipis...</td>\n",
       "      <td>tutor</td>\n",
       "      <td>None</td>\n",
       "    </tr>\n",
       "    <tr>\n",
       "      <th>1</th>\n",
       "      <td>1234</td>\n",
       "      <td>Lesson event</td>\n",
       "      <td>system</td>\n",
       "      <td>None</td>\n",
       "    </tr>\n",
       "    <tr>\n",
       "      <th>2</th>\n",
       "      <td>1234</td>\n",
       "      <td>ut labore et dolore magna aliqua. Ut enim ad m...</td>\n",
       "      <td>student</td>\n",
       "      <td>None</td>\n",
       "    </tr>\n",
       "    <tr>\n",
       "      <th>3</th>\n",
       "      <td>5678</td>\n",
       "      <td>other other ut labore et dolore magna aliqua. ...</td>\n",
       "      <td>student</td>\n",
       "      <td>hello</td>\n",
       "    </tr>\n",
       "    <tr>\n",
       "      <th>4</th>\n",
       "      <td>5678</td>\n",
       "      <td>other ut labore et dolore magna aliqua. Ut eni...</td>\n",
       "      <td>tutor</td>\n",
       "      <td>None</td>\n",
       "    </tr>\n",
       "  </tbody>\n",
       "</table>\n",
       "</div>"
      ],
      "text/plain": [
       "  conversation                                               body   origin  \\\n",
       "0         1234  Lorem ipsum dolor sit amet, consectetur adipis...    tutor   \n",
       "1         1234                                       Lesson event   system   \n",
       "2         1234  ut labore et dolore magna aliqua. Ut enim ad m...  student   \n",
       "3         5678  other other ut labore et dolore magna aliqua. ...  student   \n",
       "4         5678  other ut labore et dolore magna aliqua. Ut eni...    tutor   \n",
       "\n",
       "     tag  \n",
       "0   None  \n",
       "1   None  \n",
       "2   None  \n",
       "3  hello  \n",
       "4   None  "
      ]
     },
     "execution_count": 11,
     "metadata": {},
     "output_type": "execute_result"
    }
   ],
   "source": [
    "dft.to_dataframe()"
   ]
  },
  {
   "cell_type": "code",
   "execution_count": 55,
   "metadata": {
    "collapsed": false
   },
   "outputs": [],
   "source": [
    "dropdown = widgets.Dropdown()\n",
    "dropdown.options = ['one','two','three']\n",
    "dropdown.value = 'three'"
   ]
  },
  {
   "cell_type": "code",
   "execution_count": 65,
   "metadata": {
    "collapsed": false
   },
   "outputs": [],
   "source": [
    "out = widgets.HTML(value=dropdown.value)\n",
    "dropdown.on_trait_change(lambda x: print(x))"
   ]
  },
  {
   "cell_type": "code",
   "execution_count": 66,
   "metadata": {
    "collapsed": false
   },
   "outputs": [],
   "source": [
    "display(dropdown)"
   ]
  },
  {
   "cell_type": "code",
   "execution_count": 59,
   "metadata": {
    "collapsed": false
   },
   "outputs": [
    {
     "data": {
      "text/plain": [
       "'two'"
      ]
     },
     "execution_count": 59,
     "metadata": {},
     "output_type": "execute_result"
    }
   ],
   "source": [
    "dropdown.value"
   ]
  },
  {
   "cell_type": "code",
   "execution_count": 68,
   "metadata": {
    "collapsed": false
   },
   "outputs": [
    {
     "name": "stdout",
     "output_type": "stream",
     "text": [
      "hello\n",
      "hi\n",
      "higodd\n",
      "good\n"
     ]
    }
   ],
   "source": [
    "a = widgets.Text(value='hello')\n",
    "a.on_submit(lambda x: print(x.value))\n",
    "display(a)"
   ]
  },
  {
   "cell_type": "code",
   "execution_count": null,
   "metadata": {
    "collapsed": true
   },
   "outputs": [],
   "source": []
  }
 ],
 "metadata": {
  "kernelspec": {
   "display_name": "Python 3",
   "language": "python",
   "name": "python3"
  },
  "language_info": {
   "codemirror_mode": {
    "name": "ipython",
    "version": 3
   },
   "file_extension": ".py",
   "mimetype": "text/x-python",
   "name": "python",
   "nbconvert_exporter": "python",
   "pygments_lexer": "ipython3",
   "version": "3.4.3"
  }
 },
 "nbformat": 4,
 "nbformat_minor": 0
}
